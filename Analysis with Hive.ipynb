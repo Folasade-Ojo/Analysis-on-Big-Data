{
 "cells": [
  {
   "cell_type": "code",
   "execution_count": null,
   "metadata": {
    "vscode": {
     "languageId": "sql"
    }
   },
   "outputs": [],
   "source": [
    "-- download the \"cars\" dataset\n",
    "wget https://www.dropbox.com/s/ffkwf3ixq1mjk7q/cars.csv\n",
    "\n",
    "-- view the first 5 records\n",
    "head cars.csv\n",
    "\n",
    "-- copy the dataset into a hadoop directory\n",
    "hadoop fs -mkdir /bigdata\n",
    "hadoop fs -mkdir /bigdata/cars\n",
    "hadoop fs -copyFromLocal cars.csv /bigdata/cars\n",
    "\n",
    "-- initiate Hive\n",
    "hive\n",
    "\n",
    "-- create database\n",
    "CREATE DATABASE cars_db;\n",
    "USE cars_db;"
   ]
  },
  {
   "cell_type": "code",
   "execution_count": null,
   "metadata": {
    "vscode": {
     "languageId": "sql"
    }
   },
   "outputs": [],
   "source": [
    "-- create a table called used_cars using the appropriate schemas\n",
    "CREATE EXTERNAL TABLE IF NOT EXISTS used_cars (\n",
    " maker STRING,\n",
    " model STRING,\n",
    " mileage INT,\n",
    " manufacture_year INT,\n",
    " engine_displacement INT,\n",
    " engine_power INT,\n",
    " body_type STRING,\n",
    " color_slug STRING,\n",
    " stk_year STRING,\n",
    " transmission STRING,\n",
    " door_count STRING,\n",
    " seat_count STRING,\n",
    " fuel_type STRING,\n",
    " date_created DATE,\n",
    " date_last_seen DATE,\n",
    " price_eur FLOAT)\n",
    " ROW FORMAT DELIMITED FIELDS TERMINATED BY ','\n",
    " LOCATION '/bigdata/cars/'\n",
    " TBLPROPERTIES (\"skip.header.line.count\"=\"1\");\n",
    "\n",
    " --count the number of records\n",
    "SELECT COUNT(*) \n",
    "FROM used_cars;"
   ]
  },
  {
   "cell_type": "code",
   "execution_count": null,
   "metadata": {
    "vscode": {
     "languageId": "sql"
    }
   },
   "outputs": [],
   "source": [
    "-- To clean the data\n",
    "--write hive queries to determine the percentage of missing values in each attribute\n",
    "SELECT\n",
    "ROUND (100 * SUM(CASE WHEN maker = '' THEN 1 ELSE 0 END)/COUNT (*),2),\n",
    "ROUND (100 * SUM(CASE WHEN model = '' THEN 1 ELSE 0 END)/COUNT (*),2),\n",
    "ROUND (100 * SUM(CASE WHEN mileage IS NULL THEN 1 ELSE 0 END)/COUNT (*),2),\n",
    "ROUND (100 * SUM(CASE WHEN manufacture_year IS NULL THEN 1 ELSE 0 END)/COUNT (*),2),\n",
    "ROUND (100 * SUM(CASE WHEN engine_displacement IS NULL THEN 1 ELSE 0 END)/COUNT (*),2),\n",
    "ROUND (100 * SUM(CASE WHEN engine_power IS NULL THEN 1 ELSE 0 END)/COUNT (*),2),\n",
    "ROUND (100 * SUM(CASE WHEN body_type = '' THEN 1 ELSE 0 END)/COUNT (*),2),\n",
    "ROUND (100 * SUM(CASE WHEN color_slug = '' THEN 1 ELSE 0 END)/COUNT (*),2),\n",
    "ROUND (100 * SUM(CASE WHEN stk_year = '' THEN 1 ELSE 0 END)/COUNT (*),2),\n",
    "ROUND (100 * SUM(CASE WHEN transmission = '' THEN 1 ELSE 0 END)/COUNT (*),2),\n",
    "ROUND (100 * SUM(CASE WHEN door_count = '' THEN 1 ELSE 0 END)/COUNT (*),2),\n",
    "ROUND (100 * SUM(CASE WHEN seat_count = '' THEN 1 ELSE 0 END)/COUNT (*),2),\n",
    "ROUND (100 * SUM(CASE WHEN fuel_type = '' THEN 1 ELSE 0 END)/COUNT (*),2),\n",
    "ROUND (100 * SUM(CASE WHEN date_created IS NULL THEN 1 ELSE 0 END)/COUNT (*),2),\n",
    "ROUND (100 * SUM(CASE WHEN date_last_seen IS NULL THEN 1 ELSE 0 END)/COUNT (*),2),\n",
    "ROUND (100 * SUM(CASE WHEN price_eur IS NULL THEN 1 ELSE 0 END)/COUNT (*),2)\n",
    "FROM used_cars;\n",
    "\n",
    "--write hive queries to determine if there are single prices repeating across the ads\n",
    "SELECT price_eur, COUNT(price_eur)\n",
    "FROM used_cars\n",
    "GROUP BY price_eur\n",
    "ORDER BY COUNT(price_eur) DESC\n",
    "LIMIT 20;\n",
    "\n",
    "--color_slug and fuel_type had 94% and 52% null values respectively\n",
    "--The price ‘1295.34’ was repeated  673,623 times. The maximum number of times the other prices were repeated did not exceed 6609. This implies that there was an error during the scraping process regarding 1295.34\n"
   ]
  },
  {
   "cell_type": "code",
   "execution_count": null,
   "metadata": {
    "vscode": {
     "languageId": "sql"
    }
   },
   "outputs": [],
   "source": [
    "--Create a new table called \"clean_used_cars\" by\n",
    "-- 1. dropping columns with more than 50% null values\n",
    "-- 2. The manufacture year between 2000 and 2017\n",
    "-- 3. There must not be any null records in the Maker and Model columns \n",
    "-- 4. Price range is from 3000 to 2000000\n",
    "-- 5. Dropping any price that repeats too frequently\n",
    "\n",
    "CREATE TABLE clean_used_cars AS\n",
    "(SELECT maker, model, mileage, manufacture_year, engine_displacement, engine_power, body_type, stk_year, transmission, door_count, seat_count, date_created, date_last_seen, price_eur\n",
    "FROM used_cars\n",
    "WHERE manufacture_year BETWEEN 2000 AND 2017\n",
    "AND maker != ''\n",
    "AND model != ''\n",
    "AND price_eur BETWEEN 3000 AND 2000000\n",
    "AND price_eur != 1295.34); \n",
    "\n",
    "SELECT COUNT(*) \n",
    "FROM clean_used_cars;"
   ]
  },
  {
   "cell_type": "code",
   "execution_count": null,
   "metadata": {
    "vscode": {
     "languageId": "sql"
    }
   },
   "outputs": [],
   "source": [
    "-- Top 10 makers and models by highest average price\n",
    "SELECT maker, model, ROUND(AVG (price_eur),2) AS top_10_manufacturers\n",
    "FROM clean_used_cars\n",
    "GROUP BY maker, model\n",
    "DISTRIBUTE BY top_10_manufacturers\n",
    "SORT BY top_10_manufacturers DESC\n",
    "LIMIT 10;"
   ]
  },
  {
   "cell_type": "code",
   "execution_count": null,
   "metadata": {
    "vscode": {
     "languageId": "sql"
    }
   },
   "outputs": [],
   "source": [
    "-- Top 10 maker and model by lowest average price\n",
    "SELECT maker, model, ROUND(AVG (price_eur),2) AS least_10_manufacturers\n",
    "FROM clean_used_cars\n",
    "GROUP BY maker, model\n",
    "CLUSTER BY least_10\n",
    "LIMIT 10;"
   ]
  },
  {
   "cell_type": "code",
   "execution_count": null,
   "metadata": {
    "vscode": {
     "languageId": "sql"
    }
   },
   "outputs": [],
   "source": [
    "-- Top 5 makers and models for the economic segment \n",
    "--(price range; 3000<=price<20000)\n",
    "SELECT maker, model, ROUND(AVG(price_eur),2) AS economic_top_5\n",
    "FROM clean_used_cars\n",
    "GROUP BY maker, model\n",
    "HAVING AVG(price_eur)= 3000 AND AVG(price_eur) < 20000\n",
    "DISTRIBUTE BY economic_top_5\n",
    "SORT BY economic_top_5 DESC\n",
    "LIMIT 5;"
   ]
  },
  {
   "cell_type": "code",
   "execution_count": null,
   "metadata": {
    "vscode": {
     "languageId": "sql"
    }
   },
   "outputs": [],
   "source": [
    "-- Top 5 makers and models for the intermediate segment \n",
    "--(price range; 20000<=price<300000)\n",
    "SELECT maker, model, ROUND(AVG(price_eur),2) AS Intermediate_top_5\n",
    "FROM clean_used_cars\n",
    "GROUP BY maker, model\n",
    "HAVING AVG (price_eur) BETWEEN 20000 AND 300000\n",
    "DISTRIBUTE BY Intermediate_top_5\n",
    "SORT BY Intermediate_top_5 DESC\n",
    "LIMIT 5;"
   ]
  },
  {
   "cell_type": "code",
   "execution_count": null,
   "metadata": {
    "vscode": {
     "languageId": "sql"
    }
   },
   "outputs": [],
   "source": [
    "-- Top 5 makers and models for the luxury segment \n",
    "--(price range; 300000<=price<2000000)\n",
    "SELECT maker, model, ROUND(AVG(price_eur),2) AS Luxury_top_5\n",
    "FROM clean_used_cars\n",
    "GROUP BY maker, model\n",
    "HAVING AVG (price_eur) BETWEEN 300000 AND 2000000\n",
    "DISTRIBUTE BY Luxury_top_5\n",
    "SORT BY Luxury_top_5 DESC\n",
    "LIMIT 5;"
   ]
  }
 ],
 "metadata": {
  "kernelspec": {
   "display_name": "Python 3.9.12 ('base')",
   "language": "python",
   "name": "python3"
  },
  "language_info": {
   "name": "python",
   "version": "3.9.12"
  },
  "orig_nbformat": 4,
  "vscode": {
   "interpreter": {
    "hash": "f08154012ddadd8e950e6e9e035c7a7b32c136e7647e9b7c77e02eb723a8bedb"
   }
  }
 },
 "nbformat": 4,
 "nbformat_minor": 2
}
